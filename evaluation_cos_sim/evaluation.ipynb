{
 "cells": [
  {
   "cell_type": "code",
   "execution_count": null,
   "metadata": {},
   "outputs": [],
   "source": [
    "import os\n",
    "from dotenv import load_dotenv\n",
    "\n",
    "\n",
    "\n",
    "# Load environment variables\n",
    "# load_dotenv()\n",
    "\n",
    "\n",
    "# Set OpenAI API Key\n",
    "# os.environ[\"OPENAI_API_KEY\"]"
   ]
  },
  {
   "cell_type": "markdown",
   "metadata": {},
   "source": [
    "Prompts for System behaviour\n",
    "\n"
   ]
  },
  {
   "cell_type": "code",
   "execution_count": 3,
   "metadata": {},
   "outputs": [],
   "source": [
    "### Contextualize question ###\n",
    "contextualize_q_system_prompt = (\n",
    "    \"Given a chat history and the latest user question \"\n",
    "    \"which might reference context in the chat history, \"\n",
    "    \"formulate a standalone question which can be understood \"\n",
    "    \"without the chat history. Do NOT answer the question, \"\n",
    "    \"just reformulate it if needed and otherwise return it as is.\"\n",
    ")\n",
    "\n",
    "\n",
    "# Define the system prompt template\n",
    "system_prompt = r\"\"\"\n",
    "You are a helpful AI assistant that knows about Ulster or Ulster University based on the context provided. \n",
    "\n",
    "Assume all user questions are about ulster university and if you have information closely related to question asked, provide the answer.\n",
    "\n",
    "Keep all responses short and adequate, providing enough information to answer the question without unnecessary details.\n",
    "\n",
    "# Safety\n",
    "If you feel like you do not have enough information to answer the question about ulster university, say \"Can you provide more context\".\n",
    "\n",
    "If there are any questions about something other than ulster university. Kindly decline to respond\n",
    "\n",
    "Do not forget. You only use the provided context to answer questions about ulster or ulster university.\n",
    "\n",
    "----\n",
    "{context}\n",
    "----\n",
    "\n",
    "\"\"\""
   ]
  },
  {
   "cell_type": "code",
   "execution_count": 4,
   "metadata": {},
   "outputs": [],
   "source": [
    "from PyPDF2 import PdfReader\n",
    "import requests\n",
    "import io\n",
    "\n",
    "# Function to extract text from PDF documents\n",
    "def extract_text_from_pdf(pdf_docs):\n",
    "    text = \"\"\n",
    "    try:\n",
    "        for pdf in pdf_docs:\n",
    "            # If it's a URL, download the PDF first\n",
    "            if pdf.startswith('http'):\n",
    "                response = requests.get(pdf)\n",
    "                pdf_file = io.BytesIO(response.content)\n",
    "            else:\n",
    "                pdf_file = pdf\n",
    "            pdf_reader = PdfReader(pdf_file)\n",
    "            for page in pdf_reader.pages:\n",
    "                text += page.extract_text()\n",
    "    except Exception as e:\n",
    "        print(f\"Error processing PDF: {str(e)}\")\n",
    "        return None\n",
    "    return text"
   ]
  },
  {
   "cell_type": "code",
   "execution_count": 5,
   "metadata": {},
   "outputs": [],
   "source": [
    "url = ['ulster_data.pdf']\n",
    "text = extract_text_from_pdf(url)"
   ]
  },
  {
   "cell_type": "code",
   "execution_count": 6,
   "metadata": {},
   "outputs": [],
   "source": [
    "from langchain.text_splitter import RecursiveCharacterTextSplitter\n",
    "from config import CHUNK_OVERLAP, CHUNK_SIZE\n",
    "\n",
    "\n",
    "# Function to split text into chunks\n",
    "def get_text_chunks(pdf_text):\n",
    "    text_splitter = RecursiveCharacterTextSplitter(\n",
    "        chunk_size=CHUNK_SIZE,\n",
    "        chunk_overlap=CHUNK_OVERLAP,\n",
    "        length_function=len,\n",
    "        separators=[\"\\n\\n\", \"\\n\", \".\", \" \", \"\"]\n",
    "    )\n",
    "    chunks = text_splitter.split_text(pdf_text)\n",
    "\n",
    "    return chunks"
   ]
  },
  {
   "cell_type": "code",
   "execution_count": 7,
   "metadata": {},
   "outputs": [
    {
     "name": "stdout",
     "output_type": "stream",
     "text": [
      "ULSTER UNIVERSITY COURSES\n",
      "List of courses available:\n",
      "a. Artificial Intelligence – Msc\n",
      "b. Computer Science – Msc\n",
      "c. Internet of Things - MSc\n",
      "1. Artificial Intelligence - MSc\n",
      "=============================\n",
      "2024/25 Full-time Postgraduate course\n",
      "-------------------------------------\n",
      "Award: Master of Science\n",
      "Faculty: Faculty of Computing, Engineering and the Built Environment\n",
      "School: School of Computing\n",
      "Campus: Belfast campus\n",
      "Start dates:\n",
      "September 2024\n",
      "January 2025\n",
      "Overview\n",
      "--------\n",
      "Creating the next generation of high quality professionals for the AI industry.\n",
      "## Summary\n",
      "The MSc in Artificial Intelligence is a specialized program aimed at preparing students for careers \n",
      "in various AI-related fields, including computing, knowledge representation, reasoning, robotics, \n",
      "machine learning, deep learning, neural networks, natural language processing, and data analytics. \n",
      "It also provides a foundation for further research studies. The course is supported by advanced\n"
     ]
    }
   ],
   "source": [
    "chunks = get_text_chunks(text)\n",
    "\n",
    "print(chunks[0])"
   ]
  },
  {
   "cell_type": "code",
   "execution_count": 8,
   "metadata": {},
   "outputs": [],
   "source": [
    "from langchain_openai import ChatOpenAI, OpenAIEmbeddings\n",
    "from langchain_community.vectorstores import FAISS\n",
    "\n",
    "\n",
    "def create_vectorstore(text_chunks):\n",
    "    vectorstore = FAISS.from_texts(\n",
    "        texts=text_chunks, embedding=OpenAIEmbeddings()\n",
    "    )\n",
    "\n",
    "    return vectorstore\n"
   ]
  },
  {
   "cell_type": "code",
   "execution_count": 9,
   "metadata": {},
   "outputs": [],
   "source": [
    "create_vector = create_vectorstore(chunks)"
   ]
  },
  {
   "cell_type": "markdown",
   "metadata": {},
   "source": [
    "## Testing Cosine Similarity"
   ]
  },
  {
   "cell_type": "code",
   "execution_count": 10,
   "metadata": {},
   "outputs": [],
   "source": [
    "from langchain_openai import OpenAIEmbeddings\n",
    "import numpy as np\n",
    "\n",
    "# Embedding function\n",
    "def create_embedding(text):\n",
    "    embeddings = OpenAIEmbeddings()\n",
    "    return embeddings.embed_query(text)"
   ]
  },
  {
   "cell_type": "code",
   "execution_count": 11,
   "metadata": {},
   "outputs": [],
   "source": [
    "# Calculate cosine similarity\n",
    "def calc_cosine_similarity(answer_orig, answer_llm):\n",
    "    vec1= create_embedding(answer_orig)\n",
    "    vec2= create_embedding(answer_llm)\n",
    "    return np.dot(vec1, vec2) / (np.linalg.norm(vec1) * np.linalg.norm(vec2))"
   ]
  },
  {
   "cell_type": "code",
   "execution_count": 12,
   "metadata": {},
   "outputs": [
    {
     "name": "stdout",
     "output_type": "stream",
     "text": [
      "58\n"
     ]
    }
   ],
   "source": [
    "import json\n",
    "\n",
    "with open('eval.json', 'r') as file:\n",
    "    data = json.load(file)\n",
    "\n",
    "print(len(data))"
   ]
  },
  {
   "cell_type": "code",
   "execution_count": 13,
   "metadata": {},
   "outputs": [
    {
     "data": {
      "text/plain": [
       "{'id': '1a4b4f52-6094-4a81-bd2d-5b6d331ed3e4',\n",
       " 'question': 'Could you detail the breakdown of the academic staff roles within the School of Computing at Ulster University, including the percentage of Professors, Readers/Senior Lecturers, and Lecturers?',\n",
       " 'reference_answer': \"The School of Computing's academic staff includes Professors (22%), Readers/Senior Lecturers (28%), and Lecturers (50%). Most of them hold a Postgraduate Certificate in Higher Education Practice and about 89% are HEA fellows or higher.\",\n",
       " 'rag_answer': 'Within the School of Computing at Ulster University, the academic staff roles are broken down as follows:\\n- Professors: 22%\\n- Readers/Senior Lecturers: 28%\\n- Lecturers: 50%',\n",
       " '4o_answer': \"I don't have the specific breakdown of academic staff roles within the School of Computing at Ulster University. For precise information, you may want to contact the university directly or visit their official website.\",\n",
       " '4o_mini_answer': \"I'm sorry, but I do not have specific information about the breakdown of academic staff roles within the School of Computing at Ulster University.\",\n",
       " '3.5_turbo_answer': 'I do not have that specific information.'}"
      ]
     },
     "execution_count": 13,
     "metadata": {},
     "output_type": "execute_result"
    }
   ],
   "source": [
    "data[10]"
   ]
  },
  {
   "cell_type": "code",
   "execution_count": null,
   "metadata": {},
   "outputs": [],
   "source": [
    "import pandas as pd\n",
    "\n",
    "df = pd.DataFrame([d for d in chunks], columns=[\"text\"])\n",
    "df.head(15)"
   ]
  },
  {
   "cell_type": "markdown",
   "metadata": {},
   "source": [
    "# Create a Knowledge Base"
   ]
  },
  {
   "cell_type": "code",
   "execution_count": 107,
   "metadata": {},
   "outputs": [],
   "source": [
    "from giskard.rag import KnowledgeBase\n",
    "\n",
    "knowledge_base = KnowledgeBase(df)\n",
    "\n",
    "# pip install \"giskard[llm]\" --upgrade"
   ]
  },
  {
   "cell_type": "markdown",
   "metadata": {},
   "source": [
    "\n",
    "# Generate test cases"
   ]
  },
  {
   "cell_type": "code",
   "execution_count": 108,
   "metadata": {},
   "outputs": [],
   "source": [
    "# from giskard.rag import generate_testset\n",
    "\n",
    "testset = generate_testset(\n",
    "    knowledge_base,\n",
    "    num_questions=60,\n",
    "    agent_description=\"A chatbot answering questions about ulster university\",\n",
    ")"
   ]
  },
  {
   "cell_type": "code",
   "execution_count": 110,
   "metadata": {},
   "outputs": [],
   "source": [
    "# testset.save(\"eval.json\")"
   ]
  },
  {
   "cell_type": "code",
   "execution_count": 80,
   "metadata": {},
   "outputs": [],
   "source": [
    "from config import MODEL_NAME, TEMPERATURE\n",
    "from langchain_core.prompts import MessagesPlaceholder, ChatPromptTemplate\n",
    "from langchain.chains.retrieval import create_retrieval_chain\n",
    "from langchain.chains.history_aware_retriever import create_history_aware_retriever\n",
    "from langchain.chains.combine_documents import create_stuff_documents_chain\n",
    "from langchain_core.messages import AIMessage, HumanMessage\n",
    "\n",
    "\n",
    "def create_conversation_chain(vectorstore):\n",
    "\n",
    "    llm = ChatOpenAI(\n",
    "        temperature=TEMPERATURE,\n",
    "        model=\"gpt-4o-mini\",\n",
    "    )\n",
    "\n",
    "    contextualize_q_prompt = ChatPromptTemplate.from_messages(\n",
    "    [\n",
    "        (\"system\", contextualize_q_system_prompt),\n",
    "        MessagesPlaceholder(\"chat_history\"),\n",
    "        (\"human\", \"{input}\"),\n",
    "    ]\n",
    "    )\n",
    "    \n",
    "    history_aware_retriever = create_history_aware_retriever(\n",
    "        llm,\n",
    "        vectorstore.as_retriever(),\n",
    "        contextualize_q_prompt,\n",
    "    )\n",
    "\n",
    "    qa_prompt = ChatPromptTemplate.from_messages(\n",
    "    [\n",
    "        (\"system\", system_prompt),\n",
    "        MessagesPlaceholder(\"chat_history\"),\n",
    "        (\"human\", \"{input}\"),\n",
    "    ]\n",
    "    )\n",
    "\n",
    "    question_answer_chain = create_stuff_documents_chain(llm, qa_prompt)\n",
    "\n",
    "    rag_chain = create_retrieval_chain(history_aware_retriever, question_answer_chain)\n",
    "\n",
    "    return rag_chain\n"
   ]
  },
  {
   "cell_type": "code",
   "execution_count": 35,
   "metadata": {},
   "outputs": [
    {
     "name": "stdout",
     "output_type": "stream",
     "text": [
      "gpt-4o\n"
     ]
    }
   ],
   "source": [
    "# print(MODEL_NAME)"
   ]
  },
  {
   "cell_type": "code",
   "execution_count": null,
   "metadata": {},
   "outputs": [],
   "source": [
    "from tqdm.auto import tqdm\n",
    "\n",
    "rag = create_conversation_chain(create_vector)\n",
    "# ques = ['Is AI course available?', \"What is the fee?\"]\n",
    "\n",
    "hist = []\n",
    "for que in tqdm(data):\n",
    "    res = rag.invoke({\"input\": que['question'], \"chat_history\": hist})\n",
    "    res['chat_history'].extend(\n",
    "        [\n",
    "            HumanMessage(content=res['input']),\n",
    "            AIMessage(content=res['answer']),\n",
    "        ]\n",
    "    )\n",
    "    \n",
    "    hist = res['chat_history']"
   ]
  },
  {
   "cell_type": "code",
   "execution_count": 6,
   "metadata": {},
   "outputs": [],
   "source": [
    "# hist"
   ]
  },
  {
   "cell_type": "markdown",
   "metadata": {},
   "source": [
    "## Cosine Similarity"
   ]
  },
  {
   "cell_type": "code",
   "execution_count": null,
   "metadata": {},
   "outputs": [],
   "source": [
    "# Cosine Similarity 4o_mini\n",
    "\n",
    "similarity_4o_mini = []\n",
    "\n",
    "for record in tqdm(data):\n",
    "    rag_similarity_4o_mini = calc_cosine_similarity(record[\"reference_answer\"], record[\"4o_mini\"])\n",
    "    similarity_4o_mini.append(rag_similarity_4o_mini)"
   ]
  },
  {
   "cell_type": "code",
   "execution_count": 9,
   "metadata": {},
   "outputs": [
    {
     "name": "stdout",
     "output_type": "stream",
     "text": [
      "[0.97333597413242, 0.9941593435283048, 0.928090006325733, 0.930599075580288, 0.9777510057045927, 0.968519888528558, 0.8904244216669615, 0.9935565726128979, 0.9121512341212564, 0.9198812995822994, 0.9455839574676895, 0.941776212799846, 0.8624234144247869, 0.9093272857860851, 0.9871251819730256, 0.863472557124301, 0.93768370849917, 0.9362407186444849, 0.9692688650659721, 0.9413027824696996, 0.9624342241366374, 0.8664323227183953, 0.8935179308797724, 0.9432515697474604, 0.9624084707728009, 0.8761708273421341, 0.9571311119891801, 0.9756268153992277, 0.9318744733506718, 0.9166733416819074, 0.8347092165681722, 0.9719153528923428, 0.9712652975221702, 0.9922011419182464, 0.9317650624625209, 0.907198098247873, 0.9739954235627571, 0.9732151365761114, 0.9583705204141909, 0.893299123283583, 0.984399428302752, 0.9922489929630032, 0.9835667213530122, 0.9513789594094336, 0.9440623905001735, 0.9189706869088077, 0.8532551102250173, 0.9728160257055198, 0.9574637004936, 0.8587290848260151, 0.9178667920690914, 0.8735730976283399, 0.9051999604559485, 0.8954180570230967, 0.8276396065094065, 0.9071214276176222, 0.928183134894099, 0.944746901880215, 0.9793856771702338, 0.9886642503731248, 0.7194443170361776, 0.8091355532984947, 0.9206539894889221, 0.955371495742962, 0.8207094204744096, 0.9224856723462154]\n"
     ]
    }
   ],
   "source": [
    "# print(similarity_4o_mini)"
   ]
  },
  {
   "cell_type": "code",
   "execution_count": null,
   "metadata": {},
   "outputs": [],
   "source": [
    "# Cosine Similarity 4o\n",
    "\n",
    "similarity_4o = []\n",
    "\n",
    "for record in tqdm(data):\n",
    "    rag_similarity_4o = calc_cosine_similarity(record[\"reference_answer\"], record[\"4o\"])\n",
    "    similarity_4o.append(rag_similarity_4o)\n"
   ]
  },
  {
   "cell_type": "code",
   "execution_count": 11,
   "metadata": {},
   "outputs": [
    {
     "name": "stdout",
     "output_type": "stream",
     "text": [
      "[0.9821809162944978, 0.9941418046343126, 0.928090006325733, 0.9305910441087046, 0.9781853881435718, 0.9684889471358848, 0.9099588176660355, 0.9935565726128979, 0.9344887114952317, 0.9323035951618673, 0.9607557034664519, 0.9473621989394728, 0.8706197016912158, 0.9336483658825407, 0.9856302623999406, 0.8613660316547231, 0.9383311309815533, 0.9428804665756995, 0.9665695454785891, 0.9299898105868992, 0.9738844071243921, 0.9098421508302489, 0.918078081352373, 0.9432288614231932, 0.9624181833882598, 0.8832109981740701, 0.9590635542375802, 0.9774232417063726, 0.9638888963162479, 0.9154012697959106, 0.835932771628298, 0.9750524334213594, 0.9712652975221702, 0.9922771296184469, 0.9638888963162479, 0.9129599110699584, 0.9623804076058611, 0.9732151365761114, 0.9583705204141909, 0.8927369486102935, 0.9880495479949617, 0.9948663436124884, 0.9884103266358429, 0.9526683470430956, 0.9484086348278035, 0.9540260755996217, 0.8571344955422494, 0.9708934218740531, 0.9574637004936, 0.8585828110043822, 0.9218604861393715, 0.8747241941368624, 0.9249437578428918, 0.9260228648071672, 0.828426881401923, 0.9367652142515037, 0.9508250581805897, 0.944746901880215, 0.9793262073927745, 0.9798229764059255, 0.7194568945674524, 0.865621197758349, 0.9288045127567278, 0.9462243703480875, 0.8915705282513213, 0.9284456364711855]\n"
     ]
    }
   ],
   "source": [
    "# print(similarity_4o)"
   ]
  },
  {
   "cell_type": "code",
   "execution_count": null,
   "metadata": {},
   "outputs": [],
   "source": [
    "# Cosine Similarity 35_turbo\n",
    "\n",
    "similarity_35_turbo = []\n",
    "\n",
    "for record in tqdm(data):\n",
    "    rag_similarity_35 = calc_cosine_similarity(record[\"reference_answer\"], record[\"3.5_turbo\"])\n",
    "    similarity_35_turbo.append(rag_similarity_35)\n",
    "    "
   ]
  },
  {
   "cell_type": "code",
   "execution_count": 13,
   "metadata": {},
   "outputs": [
    {
     "name": "stdout",
     "output_type": "stream",
     "text": [
      "[0.9833343269766263, 0.9941751152693861, 0.928090006325733, 0.9305910441087046, 0.978263427990623, 0.9681006562802313, 0.9264551385498725, 0.9935565726128979, 0.8924219850687876, 0.9354936338666717, 0.9605327455748617, 0.9494261445866913, 0.8258071203420654, 0.9300952734286378, 0.980078705887503, 0.8985720323531472, 0.939172821694388, 0.9428726425386486, 0.9039456597972881, 0.9215014386449648, 0.7263578472626674, 0.8529957708028497, 0.9094239477951743, 0.9432515697474604, 0.9591553234440621, 0.8379013091567682, 0.9614271591689159, 0.9784254521165276, 0.9572444208786325, 0.9067693117246478, 0.8404973721863502, 0.9866490139498529, 0.9716769239350487, 0.9735885477619948, 0.9572444208786325, 0.8987046003857226, 0.9409283830936515, 0.9701762646691348, 0.9480228819761687, 0.8825948129500462, 0.9784106888977538, 0.9903810985607786, 0.9829026485810708, 0.9455795009892101, 0.9590374498984929, 0.9208426511432992, 0.8550434804925228, 0.9735744310593403, 0.9526747323879539, 0.8586689354291767, 0.9090764773239316, 0.8691961099222086, 0.906257727928899, 0.8282387004704358, 0.8208390336885711, 0.9200186602624574, 0.9080774892663352, 0.944746901880215, 0.9793262073927745, 0.9538704044507107, 0.7194568945674524, 0.8214840665024624, 0.9099293997427478, 0.9441894769764374, 0.8489119663773305, 0.9070202482946459]\n"
     ]
    }
   ],
   "source": [
    "# print(similarity_35_turbo)"
   ]
  },
  {
   "cell_type": "code",
   "execution_count": 14,
   "metadata": {},
   "outputs": [],
   "source": [
    "import pandas as pd\n",
    "import matplotlib.pyplot as plt\n",
    "import seaborn as sns\n",
    "\n",
    "series_4o = pd.Series(similarity_4o)\n",
    "series_4o_mini = pd.Series(similarity_4o_mini)\n",
    "series_35 = pd.Series(similarity_35_turbo)\n",
    "# summary_stats = series_4o.describe() "
   ]
  },
  {
   "cell_type": "code",
   "execution_count": 15,
   "metadata": {},
   "outputs": [
    {
     "data": {
      "text/plain": [
       "count    66.000000\n",
       "mean      0.927403\n",
       "std       0.053287\n",
       "min       0.719444\n",
       "25%       0.905680\n",
       "50%       0.936962\n",
       "75%       0.970766\n",
       "max       0.994159\n",
       "dtype: float64"
      ]
     },
     "execution_count": 15,
     "metadata": {},
     "output_type": "execute_result"
    }
   ],
   "source": [
    "series_4o_mini.describe()\n",
    "\n"
   ]
  },
  {
   "cell_type": "code",
   "execution_count": 16,
   "metadata": {},
   "outputs": [
    {
     "data": {
      "text/plain": [
       "count    66.000000\n",
       "mean      0.935633\n",
       "std       0.048848\n",
       "min       0.719457\n",
       "25%       0.919024\n",
       "50%       0.945486\n",
       "75%       0.970292\n",
       "max       0.994866\n",
       "dtype: float64"
      ]
     },
     "execution_count": 16,
     "metadata": {},
     "output_type": "execute_result"
    }
   ],
   "source": [
    "series_4o.describe()"
   ]
  },
  {
   "cell_type": "code",
   "execution_count": 17,
   "metadata": {},
   "outputs": [
    {
     "data": {
      "text/plain": [
       "count    66.000000\n",
       "mean      0.921110\n",
       "std       0.059249\n",
       "min       0.719457\n",
       "25%       0.900015\n",
       "50%       0.937333\n",
       "75%       0.961204\n",
       "max       0.994175\n",
       "dtype: float64"
      ]
     },
     "execution_count": 17,
     "metadata": {},
     "output_type": "execute_result"
    }
   ],
   "source": [
    "series_35.describe()"
   ]
  },
  {
   "cell_type": "code",
   "execution_count": 20,
   "metadata": {},
   "outputs": [
    {
     "name": "stderr",
     "output_type": "stream",
     "text": [
      "/tmp/ipykernel_740333/2833331739.py:1: UserWarning: \n",
      "\n",
      "`distplot` is a deprecated function and will be removed in seaborn v0.14.0.\n",
      "\n",
      "Please adapt your code to use either `displot` (a figure-level function with\n",
      "similar flexibility) or `histplot` (an axes-level function for histograms).\n",
      "\n",
      "For a guide to updating your code to use the new functions, please see\n",
      "https://gist.github.com/mwaskom/de44147ed2974457ad6372750bbe5751\n",
      "\n",
      "  sns.distplot(similarity_4o_mini, label='4o')\n",
      "/tmp/ipykernel_740333/2833331739.py:2: UserWarning: \n",
      "\n",
      "`distplot` is a deprecated function and will be removed in seaborn v0.14.0.\n",
      "\n",
      "Please adapt your code to use either `displot` (a figure-level function with\n",
      "similar flexibility) or `histplot` (an axes-level function for histograms).\n",
      "\n",
      "For a guide to updating your code to use the new functions, please see\n",
      "https://gist.github.com/mwaskom/de44147ed2974457ad6372750bbe5751\n",
      "\n",
      "  sns.distplot(similarity_4o, label='4o_mini')\n",
      "/tmp/ipykernel_740333/2833331739.py:3: UserWarning: \n",
      "\n",
      "`distplot` is a deprecated function and will be removed in seaborn v0.14.0.\n",
      "\n",
      "Please adapt your code to use either `displot` (a figure-level function with\n",
      "similar flexibility) or `histplot` (an axes-level function for histograms).\n",
      "\n",
      "For a guide to updating your code to use the new functions, please see\n",
      "https://gist.github.com/mwaskom/de44147ed2974457ad6372750bbe5751\n",
      "\n",
      "  sns.distplot(similarity_35_turbo, label='3.5_turbo')\n"
     ]
    },
    {
     "data": {
      "image/png": "[encoded data removed]",
      "text/plain": [
       "<Figure size 640x480 with 1 Axes>"
      ]
     },
     "metadata": {},
     "output_type": "display_data"
    }
   ],
   "source": [
    "sns.distplot(similarity_4o, label='4o')\n",
    "sns.distplot(similarity_4o_mini, label='4o_mini')\n",
    "sns.distplot(similarity_35_turbo, label='3.5_turbo')\n",
    "\n",
    "\n",
    "plt.title(\"RAG LLM performance\")\n",
    "plt.xlabel(\"A->Q->A' Cosine Similarity\")\n",
    "# plt.legend()\n",
    "\n",
    "plt.legend(loc='upper left')\n",
    "plt.show()"
   ]
  },
  {
   "cell_type": "code",
   "execution_count": null,
   "metadata": {},
   "outputs": [],
   "source": []
  }
 ],
 "metadata": {
  "kernelspec": {
   "display_name": "test",
   "language": "python",
   "name": "python3"
  },
  "language_info": {
   "codemirror_mode": {
    "name": "ipython",
    "version": 3
   },
   "file_extension": ".py",
   "mimetype": "text/x-python",
   "name": "python",
   "nbconvert_exporter": "python",
   "pygments_lexer": "ipython3",
   "version": "3.11.9"
  }
 },
 "nbformat": 4,
 "nbformat_minor": 2
}
